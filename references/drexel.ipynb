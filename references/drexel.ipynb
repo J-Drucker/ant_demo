{
 "cells": [
  {
   "cell_type": "markdown",
   "id": "17c1000f-efe9-426f-adc7-776bd3052f5a",
   "metadata": {},
   "source": [
    "# Setup: dependencies, global variables, functions, etc."
   ]
  },
  {
   "cell_type": "code",
   "execution_count": 7,
   "id": "a68b43ec-0216-4f9c-84db-7512f1ebd15f",
   "metadata": {},
   "outputs": [],
   "source": [
    "import drexel\n",
    "from importlib import reload\n",
    "reload(drexel)\n",
    "from drexel import * # functions and global variables, like data_dir\n",
    "import mne\n",
    "from antio import read_cnt\n",
    "from antio.parser import read_triggers\n",
    "import pandas as pd\n",
    "import numpy as np\n",
    "import seaborn as sn\n",
    "from matplotlib import pyplot as plt\n",
    "from matplotlib.ticker import ScalarFormatter\n",
    "import os\n",
    "import datetime\n",
    "\n",
    "mne.set_log_level(verbose=0)\n",
    "\n",
    "# If data has already been processed and saved in a CSV, do we (True) redo the analysis and overwrite the CSV or (False) simply import the CSV?\n",
    "overwrite = False\n",
    "\n",
    "%matplotlib qt"
   ]
  },
  {
   "cell_type": "markdown",
   "id": "84049f70-6c0a-4351-b93b-ad66f913d27f",
   "metadata": {},
   "source": [
    "# Impedance analysis\n",
    "Analysis of the magnitude and stability of electrode impedances."
   ]
  },
  {
   "cell_type": "markdown",
   "id": "ca7d96b2-8b60-49ca-8648-5cd102f8564e",
   "metadata": {},
   "source": [
    "## Data crunching"
   ]
  },
  {
   "cell_type": "code",
   "execution_count": 23,
   "id": "712ad4ae-a1ef-4f66-86c1-204b80671654",
   "metadata": {},
   "outputs": [
    {
     "name": "stdout",
     "output_type": "stream",
     "text": [
      "Re-referenced to pseudo-mastoids\n",
      "Channel positions loaded for WG_Net_NA-261\n",
      "Annotations (events) renamed\n",
      "Eyes open/closed recoded as single annotations with durations of ~20s\n"
     ]
    },
    {
     "name": "stderr",
     "output_type": "stream",
     "text": [
      "C:\\Users\\neuro\\AppData\\Local\\Temp\\ipykernel_533828\\3742947664.py:7: RuntimeWarning: EDF format requires equal-length data blocks, so 0.0371 seconds of edge values were appended to all channels when writing the final block.\n",
      "  raw.export(os.path.join(output_dir,os.path.splitext(filename)[0]+'.edf'), fmt='edf')\n"
     ]
    },
    {
     "name": "stdout",
     "output_type": "stream",
     "text": [
      "Re-referenced to pseudo-mastoids\n",
      "Channel positions loaded for WG_Net_NA-261\n",
      "Annotations (events) renamed\n",
      "Eyes open/closed recoded as single annotations with durations of ~20s\n"
     ]
    },
    {
     "name": "stderr",
     "output_type": "stream",
     "text": [
      "C:\\Users\\neuro\\AppData\\Local\\Temp\\ipykernel_533828\\3742947664.py:7: RuntimeWarning: EDF format requires equal-length data blocks, so 0.783 seconds of edge values were appended to all channels when writing the final block.\n",
      "  raw.export(os.path.join(output_dir,os.path.splitext(filename)[0]+'.edf'), fmt='edf')\n"
     ]
    },
    {
     "name": "stdout",
     "output_type": "stream",
     "text": [
      "Re-referenced to pseudo-mastoids\n",
      "Channel positions loaded for WG_Net_NA-261\n",
      "Annotations (events) renamed\n",
      "Eyes open/closed recoded as single annotations with durations of ~20s\n"
     ]
    },
    {
     "name": "stderr",
     "output_type": "stream",
     "text": [
      "C:\\Users\\neuro\\AppData\\Local\\Temp\\ipykernel_533828\\3742947664.py:7: RuntimeWarning: EDF format requires equal-length data blocks, so 0.371 seconds of edge values were appended to all channels when writing the final block.\n",
      "  raw.export(os.path.join(output_dir,os.path.splitext(filename)[0]+'.edf'), fmt='edf')\n"
     ]
    },
    {
     "name": "stdout",
     "output_type": "stream",
     "text": [
      "Re-referenced to pseudo-mastoids\n",
      "Channel positions loaded for WG_Net_NA-261\n",
      "Annotations (events) renamed\n",
      "Eyes open/closed recoded as single annotations with durations of ~20s\n",
      "Re-referenced to pseudo-mastoids\n",
      "Channel positions loaded for WG_Net_NA-261\n",
      "Annotations (events) renamed\n",
      "Eyes open/closed recoded as single annotations with durations of ~20s\n"
     ]
    },
    {
     "name": "stderr",
     "output_type": "stream",
     "text": [
      "C:\\Users\\neuro\\AppData\\Local\\Temp\\ipykernel_533828\\3742947664.py:7: RuntimeWarning: EDF format requires equal-length data blocks, so 0.678 seconds of edge values were appended to all channels when writing the final block.\n",
      "  raw.export(os.path.join(output_dir,os.path.splitext(filename)[0]+'.edf'), fmt='edf')\n"
     ]
    }
   ],
   "source": [
    "for filename in os.listdir(data_dir):\n",
    "    # Only look at the .CNT files\n",
    "    if not filename.endswith('.cnt'): continue\n",
    "    raw = load_CNT(os.path.join(data_dir,filename))\n",
    "    if raw.duration < 10: continue\n",
    "    raw.info['subject_info'] = {}\n",
    "    raw.export(os.path.join(output_dir,os.path.splitext(filename)[0]+'.edf'), fmt='edf')"
   ]
  },
  {
   "cell_type": "code",
   "execution_count": null,
   "id": "5440169e-bfa7-4ade-800c-cc4e8050675f",
   "metadata": {},
   "outputs": [],
   "source": []
  },
  {
   "cell_type": "code",
   "execution_count": null,
   "id": "fd9f85ce-9731-4235-904e-32afaba08e29",
   "metadata": {},
   "outputs": [],
   "source": [
    "# Loop through .CNT files in the directory\n",
    "imp_list = []\n",
    "for filename in os.listdir(data_dir):\n",
    "    # Only look at the .CNT files\n",
    "    if not filename.endswith('.cnt'): continue\n",
    "    # if not filename.endswith('21-09.cnt'): continue \n",
    "\n",
    "# Concatenate impedances from all recordings, convert to long form\n",
    "df_imp = pd.concat(imp_list, axis=1).melt(value_name='impedance', ignore_index=False).reset_index()\n",
    "\n",
    "# Add sponge type info (MXene, spare Mxene, white) and some other parameters\n",
    "df_imp = pd.merge(df_imp, df_electrodes) # this comes from drexel.py which is imported at the start\n",
    "\n",
    "# Elapsed time in minutes is more useful than absolute time\n",
    "df_imp['time (minutes)'] = np.round(((df_imp['time'] - df_imp['time'].min()).dt.seconds/60),2)\n",
    "\n",
    "# Save\n",
    "df_imp.to_csv(os.path.join(output_dir, 'impedances.csv'), index=False)\n",
    "\n",
    "print('Done!')"
   ]
  },
  {
   "cell_type": "code",
   "execution_count": null,
   "id": "ebbc2eb6-b322-4126-b3e2-72fe1e0d7863",
   "metadata": {},
   "outputs": [],
   "source": [
    "df_imp"
   ]
  },
  {
   "cell_type": "markdown",
   "id": "757bd416-f20f-432b-a57a-73b694d757d8",
   "metadata": {},
   "source": [
    "## Graphs for impedances (saved to \"outputs\" folder)"
   ]
  },
  {
   "cell_type": "code",
   "execution_count": null,
   "id": "a2d72a60-37e0-434f-9dea-7f8479ab1300",
   "metadata": {},
   "outputs": [],
   "source": [
    "g = sn.relplot(df_imp, kind='line', x='time (minutes)', y='impedance', hue='channel', col='type', marker='o')\n",
    "plot_touchups_and_save(g, name='impedance_line_type-columns.jpg')\n",
    "\n",
    "g = sn.relplot(df_imp, kind='line', x='time (minutes)', y='impedance', hue='type', style='channel',marker='o')\n",
    "plot_touchups_and_save(g, name='impedance_line_type-color.jpg')\n",
    "\n",
    "g = sn.catplot(df_imp, kind='box', x='time (minutes)', y='impedance', hue='type')\n",
    "plot_touchups_and_save(g, name='impedance_boxplots.jpg')\n",
    "\n",
    "g = sn.catplot(df_imp, kind='box', x='time (minutes)', y='impedance', hue='type', row='Hemisphere', row_order=['L','Z','R'])\n",
    "plot_touchups_and_save(g, name='impedance_boxplots_hemisphere-row.jpg')\n",
    "\n",
    "g = sn.relplot(df_imp, kind='line', x='time (minutes)', y='impedance', hue='type', marker='o')\n",
    "plot_touchups_and_save(g, name='impedance_line_type-color-collapsed.jpg')\n",
    "\n",
    "g = sn.catplot(df_imp, kind='bar', x='time (minutes)', y='impedance', hue='type', palette=['black','grey','lightgrey'], hue_order=['MX','spare','white'], row='Hemisphere',  row_order=['L','Z','R'])\n",
    "plot_touchups_and_save(g, name='impedance_bar_clustered_hemisphere-rows.jpg')\n",
    "\n",
    "g = sn.catplot(df_imp, kind='bar', x='time (minutes)', y='impedance', hue='type', palette=['black','grey','lightgrey'])\n",
    "plot_touchups_and_save(g, name='impedance_bar_clustered.jpg')"
   ]
  },
  {
   "cell_type": "code",
   "execution_count": null,
   "id": "943413e0-e6c7-4e6b-9ebc-95541033f412",
   "metadata": {},
   "outputs": [],
   "source": [
    "sn.relplot(df_imp, kind='line',x='time (minutes)', y=np.log(df_imp['impedance']), hue='channel', col='type')"
   ]
  },
  {
   "cell_type": "code",
   "execution_count": null,
   "id": "4b9a7288-f5e6-41cf-acda-66fef12f25fc",
   "metadata": {},
   "outputs": [],
   "source": [
    "df_imp.pivot(columns='time',index=['channel','type','AP','Hemisphere'], values='impedance')"
   ]
  },
  {
   "cell_type": "markdown",
   "id": "d005f861-c383-4792-bd65-4f23d8f16812",
   "metadata": {},
   "source": [
    "# 60Hz noise analysis\n",
    "More 60Hz means poorer electrical connection between electrodes and scalp. This is a better indicator of signal quality than impedance"
   ]
  },
  {
   "cell_type": "markdown",
   "id": "d218cbf7-506f-474d-bc2a-a5f8fded0046",
   "metadata": {},
   "source": [
    "## Data crunching"
   ]
  },
  {
   "cell_type": "code",
   "execution_count": null,
   "id": "ed16676d-4956-4161-913e-5025043a6072",
   "metadata": {},
   "outputs": [],
   "source": [
    "# Loop through .CNT files in the directory\n",
    "sixty_list = []\n",
    "for filename in os.listdir(data_dir):\n",
    "    # Only look at the .CNT files\n",
    "    if not filename.endswith('.cnt'): continue\n",
    "    # if not filename.endswith('21-09.cnt'): continue\n",
    "    \n",
    "    # Run the analysis on this file, and add it to the list\n",
    "    sixty_list.append(sixty_hz_analysis(filename))\n",
    "\n",
    "# Concatenate impedances from all recordings, convert to long form\n",
    "df_sixty = pd.concat(sixty_list, axis=0)\n",
    "\n",
    "# Elapsed time in minutes is more useful than absolute time\n",
    "df_sixty['time (minutes)'] = np.round(((df_sixty['time'] - df_sixty['time'].min()).dt.seconds/60),2)\n",
    "\n",
    "df_sixty.to_csv(os.path.join(output_dir,'60Hz.csv'))\n",
    "\n",
    "print('Done!')"
   ]
  },
  {
   "cell_type": "markdown",
   "id": "9deb7fbb-39df-43bf-9e63-2457256a5dd9",
   "metadata": {},
   "source": [
    "## Graphs for 60Hz noise (saved to \"outputs\" folder)\n",
    "This is not yet complete"
   ]
  },
  {
   "cell_type": "code",
   "execution_count": null,
   "id": "2b47874f-139c-41e9-9068-e8ff33cb28d7",
   "metadata": {},
   "outputs": [],
   "source": [
    "# Try to load data if necessary\n",
    "del df_sixty\n",
    "if not 'df_sixty' in locals():\n",
    "    df_sixty = pd.read_csv(os.path.join(output_dir,'60Hz.csv'))[['channel', '60Hz_uV', 'type_x','time (minutes)']]\n",
    "    df_sixty.rename(columns={'type_x':'type','time (minutes)':'time'}, inplace=True)\n",
    "    print('Loading 60Hz data from file')\n",
    "df = df_sixty.pivot(index=['channel','type'], columns='time', values='60Hz_uV')\n",
    "# df = df.reindex(df.mean(axis=1).sort_values().index)\n",
    "df = np.log(df)\n",
    "df = df.set_index(pd.Series(df.mean(axis=1), name='mean'), append=True).sort_values(['type','mean']).droplevel('mean').T"
   ]
  },
  {
   "cell_type": "code",
   "execution_count": null,
   "id": "a9924e6e-b16b-44e7-84ab-b49c270e0c52",
   "metadata": {},
   "outputs": [],
   "source": [
    "from scipy.ndimage import gaussian_filter\n",
    "sn.heatmap(pd.DataFrame(gaussian_filter(df, sigma=[1.5,0]), index=df.index.astype(int), columns=df.columns), xticklabels=True, cmap='coolwarm')"
   ]
  },
  {
   "cell_type": "code",
   "execution_count": null,
   "id": "904402dc-7ef3-44a6-a639-16c6b0e6e35f",
   "metadata": {},
   "outputs": [],
   "source": [
    "sn.relplot(df_sixty, kind='line',x='time (minutes)', y=np.log(df_sixty['60Hz_uV']), hue='channel', col='type_x')"
   ]
  },
  {
   "cell_type": "code",
   "execution_count": null,
   "id": "3043bfdf-e7a0-4bed-b14f-358ab9ef5fe3",
   "metadata": {},
   "outputs": [],
   "source": [
    "sn.relplot(df_sixty.query(\"Hemisphere_x=='Z'\"), kind='line',x='time (minutes)', y='60Hz_uV', style='channel', hue='type_x')"
   ]
  },
  {
   "cell_type": "code",
   "execution_count": null,
   "id": "5d53b89d-ee9b-400f-94d1-fd6c43d811f4",
   "metadata": {},
   "outputs": [],
   "source": [
    "g = sn.countplot(df_electrodes[['type','Hemisphere']], x='Hemisphere', hue='type', order=['L','Z','R'], palette=['black','grey','lightgrey'], legend='full')\n",
    "g.figure.set_size_inches(16,8)\n",
    "g.figure.tight_layout()\n",
    "g.figure.savefig(os.path.join(output_dir,'channel_types_table.jpg'), dpi=300)"
   ]
  },
  {
   "cell_type": "markdown",
   "id": "ebc10c15-ac1b-419d-b792-a65e94a1141c",
   "metadata": {},
   "source": [
    "# Alpha power analysis\n",
    "Eyes open / eyes closed paradigm"
   ]
  },
  {
   "cell_type": "markdown",
   "id": "df10b056-4f93-4cb4-b2b7-9ad2a97b1a3e",
   "metadata": {},
   "source": [
    "## Data crunching"
   ]
  },
  {
   "cell_type": "code",
   "execution_count": null,
   "id": "961d16bd-dfc6-4aaf-bfd4-4e2a9d168166",
   "metadata": {},
   "outputs": [],
   "source": [
    "# If OVERWRITE==False and PSDs.csv exists, we can read in PSDs.csv and skip the time-consuming analysis\n",
    "if not overwrite:\n",
    "    try:\n",
    "        df_alpha = pd.read_csv(os.path.join(output_dir,'PSDs.csv'))\n",
    "    except:\n",
    "        pass"
   ]
  },
  {
   "cell_type": "code",
   "execution_count": null,
   "id": "39d7edf4-d9a5-4626-a8e7-90b5d2178897",
   "metadata": {},
   "outputs": [],
   "source": [
    "# Loop through .CNT files in the directory\n",
    "power_dict = {}\n",
    "for filename in os.listdir(data_dir):\n",
    "    # Only look at the .CNT files\n",
    "    if not filename.endswith('.cnt'): continue\n",
    "    # if not filename.endswith('21-09.cnt'): continue\n",
    "    # Open the data as an mne.Raw object\n",
    "    raw = load_CNT(os.path.join(data_dir, filename))\n",
    "    if raw.duration < 10: continue\n",
    "\n",
    "    psds = {\n",
    "        cond: v.compute_psd(method='welch', fmin=1, fmax=70) for cond in ['eyes_open','eyes_closed'] for v in [\n",
    "            mne.concatenate_epochs(\n",
    "                [mne.make_fixed_length_epochs(\n",
    "                    seg, duration=2, overlap=0\n",
    "                ) for seg in raw.crop_by_annotations(annotations = [\n",
    "                    a for a in raw.annotations if a['description']==cond\n",
    "                ]\n",
    "                                                    ) \n",
    "                ]\n",
    "            )] \n",
    "         \n",
    "    }\n",
    "\n",
    "    power_dict[raw.info['meas_date']] = pd.concat(\n",
    "        {cond: spectrum.to_data_frame(long_format=True).drop(columns=['condition','ch_type']).set_index(['epoch','channel','freq']) for cond,spectrum in psds.items()},\n",
    "                                                  axis=0, names=['cond','epoch','channel','freq'])\n",
    "\n",
    "df_power = pd.concat(power_dict, axis=0, names=['datetime','cond','epoch','channel','freq'])\n",
    "df_power['time'] = np.round((df_power.index.get_level_values('datetime') - df_power.index.get_level_values('datetime').min()).to_series().dt.total_seconds()/60, 3).values\n",
    "df_power.index = df_power.index.droplevel('datetime')\n",
    "df_power = df_power.reset_index().merge(df_electrodes, left_on='channel', right_on='channel', how='left')"
   ]
  },
  {
   "cell_type": "code",
   "execution_count": null,
   "id": "cc311187-771f-4d5d-9f75-04550405d02a",
   "metadata": {},
   "outputs": [],
   "source": [
    "df_power = pd.concat(power_dict, axis=0, names=['datetime','cond','epoch','channel','freq'])\n",
    "df_power['time'] = np.round((df_power.index.get_level_values('datetime') - df_power.index.get_level_values('datetime').min()).to_series().dt.total_seconds()/60, 3).values\n",
    "df_power.index = df_power.index.droplevel('datetime')\n",
    "# df_power = df_power.set_index('time', append=True)\n",
    "df_power = df_power.reset_index().merge(df_electrodes, left_on='channel', right_on='channel', how='left')"
   ]
  },
  {
   "cell_type": "code",
   "execution_count": null,
   "id": "b9636fe9-3f52-4e0c-aaa8-a6875434d615",
   "metadata": {},
   "outputs": [],
   "source": [
    "g = df_power.query(\"freq==10\").groupby([x for x in df_power.columns if not x in ['epoch','value']])\n",
    "data = pd.concat([g['value'].mean(), g['value'].std()], axis=1, keys=['mean','SD']).reset_index()\n",
    "data"
   ]
  },
  {
   "cell_type": "code",
   "execution_count": null,
   "id": "102a548a-5fb1-4322-a8a2-7109130b90d0",
   "metadata": {},
   "outputs": [],
   "source": [
    "sn.relplot(data, kind='line', x='time', y='mean', col='channel', col_wrap=8, hue='cond', style='cond', markers=True, facet_kws={'sharey':False})"
   ]
  },
  {
   "cell_type": "code",
   "execution_count": null,
   "id": "6b3e4e08-56f1-4bcb-911e-9af9ae4c2a94",
   "metadata": {},
   "outputs": [],
   "source": [
    "sn.relplot(data, kind='line', x='time', y='mean', hue='cond', style='cond', col='type', markers=True, facet_kws={'sharey':False})"
   ]
  },
  {
   "cell_type": "code",
   "execution_count": null,
   "id": "30c36771-93ec-44c7-ab8b-8087addece21",
   "metadata": {},
   "outputs": [],
   "source": [
    "sn.relplot(data, kind='line', x='time', y='SD', row='cond', style='cond', hue='type', markers=True, facet_kws={'sharey':False})"
   ]
  },
  {
   "cell_type": "code",
   "execution_count": null,
   "id": "c13f09f1-1b5e-48a0-9144-71fabc183126",
   "metadata": {},
   "outputs": [],
   "source": [
    "sn.catplot(data, kind='violin', x='time', y='mean', row='cond', hue='cond', col='type', sharey=False)"
   ]
  },
  {
   "cell_type": "code",
   "execution_count": null,
   "id": "a121ca15-aad8-46bc-8ebc-5f90633b4e1a",
   "metadata": {},
   "outputs": [],
   "source": [
    "    for name, group in df_annotations.groupby('description'):\n",
    "        segments = raw.crop_by_annotations(annotations=mne.Annotations(\n",
    "            onset=group['onset'].values,\n",
    "            duration=group['duration'].values,\n",
    "            description=group['description'].values,\n",
    "        ))\n",
    "        epochs = mne.concatenate_epochs(\n",
    "            [mne.make_fixed_length_epochs(seg, duration=2, overlap=0) for seg in segments]\n",
    "        )\n",
    "    \n",
    "        psd = epochs.compute_psd(method='welch', fmin=1, fmax=70)\n",
    "\n",
    "        # Replace epoch numbers with actual time of onset\n",
    "        df = psd.to_data_frame().drop(columns=['condition']).melt(id_vars=['epoch','freq'], var_name='channel', value_name='power', ignore_index=False)\n",
    "        times = [raw.info['meas_date'] + datetime.timedelta(seconds=x) for x in psd.events[:,0]/sfreq]\n",
    "        mapper = dict(zip(df['epoch'].unique(),times))\n",
    "        df['time'] = df['epoch'].apply(lambda x: mapper[x])\n",
    "        df = df.drop(columns=['epoch'])\n",
    "        df['condition'] = name\n",
    "        df.set_index(['condition','time','channel','freq'], inplace=True)\n",
    "        print(df.index[df.index.duplicated()])\n",
    "        \n",
    "        alpha_list.append(df.copy())\n",
    "    \n",
    "df_alpha = pd.concat(alpha_list)\n",
    "# Log power is easier to read than power\n",
    "df_alpha['power'] = np.log(df_alpha['power'])\n",
    "# Elapsed time in minutes is more useful than absolute time\n",
    "df_alpha = df_alpha.reset_index()\n",
    "df_alpha['time'] = np.round(((df_alpha['time'] - df_alpha['time'].min()).dt.seconds/60),3)\n",
    "\n",
    "# Add sponge type info (MXene, spare Mxene, white) and some other parameters\n",
    "df_alpha = pd.merge(df_alpha, df_electrodes) # this comes from drexel.py which is imported at the start\n",
    "\n",
    "df_alpha_save = df_alpha.drop(columns=['AP','Hemisphere']).set_index(['condition','type','channel','freq','time'])\n",
    "df_alpha_save.to_csv(os.path.join(output_dir,'PSDs.csv'))\n",
    "df_alpha_save.to_json(os.path.join(output_dir,'PSDs.json'), orient='index')\n",
    "print('Done!')"
   ]
  },
  {
   "cell_type": "code",
   "execution_count": null,
   "id": "522083eb-92a5-481b-a826-65e4c21a7016",
   "metadata": {},
   "outputs": [],
   "source": [
    "raw.annotations.to_data_frame()"
   ]
  },
  {
   "cell_type": "code",
   "execution_count": null,
   "id": "2eb99e70-2bfc-48cd-b506-3121514b7697",
   "metadata": {},
   "outputs": [],
   "source": [
    "df_alpha['condition'] = df_alpha['condition'].astype(categorical)"
   ]
  },
  {
   "cell_type": "code",
   "execution_count": null,
   "id": "6cb65411-fea2-4d65-90a6-2f31395d0c21",
   "metadata": {},
   "outputs": [],
   "source": [
    "df_alpha_save.query(\"not type=='MX'\").unstack('time')"
   ]
  },
  {
   "cell_type": "code",
   "execution_count": null,
   "id": "44268f4a-f32a-4c9d-9527-a7dd3a79ffaa",
   "metadata": {},
   "outputs": [],
   "source": [
    "sn.relplot(df_alpha,kind='line',x='freq',y='power',hue='condition', col='type')\n",
    "# sn.relplot(df_alpha.query(\"channel in ['11R','11L']\"),kind='line',x='freq',y='power',hue='condition', col='type')"
   ]
  },
  {
   "cell_type": "code",
   "execution_count": null,
   "id": "16571448-bc0f-445e-a629-2b0be481ba5a",
   "metadata": {},
   "outputs": [],
   "source": [
    "sn.lmplot(df_alpha.query(\"freq==10 and AP>9\"),x='time',y='power',hue='condition', col='type')\n",
    "# sn.lmplot(df_alpha.query(\"(freq==10) and (channel in ['11R','11L'])\"),x='time',y='power',hue='condition', col='type')"
   ]
  },
  {
   "cell_type": "code",
   "execution_count": null,
   "id": "0f998b36-d2c8-426f-b2d8-7cb1ed7792bf",
   "metadata": {},
   "outputs": [],
   "source": [
    "sn.lmplot(df_alpha.query(\"(freq==10)\"),x='time',y='power',row='condition', hue='channel', col='type')\n",
    "# sn.lmplot(df_alpha.query(\"(freq==10) and (channel in ['11R','11L'])\"),x='time',y='power',row='condition', hue='type')"
   ]
  },
  {
   "cell_type": "code",
   "execution_count": null,
   "id": "7e09a32d-9782-4864-affe-02618a89e83e",
   "metadata": {},
   "outputs": [],
   "source": [
    "df_alpha = pd.concat(alpha_list).reset_index()\n",
    "# Elapsed time in minutes is more useful than absolute time\n",
    "df_alpha['time'] = np.round(((df_alpha['time'] - df_alpha['time'].min()).dt.seconds/60),2)\n",
    "# Log power is easier to read than power\n",
    "df_alpha['power'] = np.log(df_alpha['power'])"
   ]
  },
  {
   "cell_type": "code",
   "execution_count": null,
   "id": "90eace21-f482-4bf6-99a5-699ee67dd77e",
   "metadata": {},
   "outputs": [],
   "source": [
    "sn.relplot(df_alpha.reset_index().query(\"freq==10\"),kind='scatter',x='time',y='power',hue='condition')"
   ]
  },
  {
   "cell_type": "code",
   "execution_count": null,
   "id": "fbb92edc-7856-4ac9-b2b3-4ad002cbc51d",
   "metadata": {},
   "outputs": [],
   "source": [
    "sn.lmplot(df_alpha.reset_index().query(\"freq==10\"), x='time',y='power',hue='condition')"
   ]
  }
 ],
 "metadata": {
  "kernelspec": {
   "display_name": "Python 3 (ipykernel)",
   "language": "python",
   "name": "python3"
  },
  "language_info": {
   "codemirror_mode": {
    "name": "ipython",
    "version": 3
   },
   "file_extension": ".py",
   "mimetype": "text/x-python",
   "name": "python",
   "nbconvert_exporter": "python",
   "pygments_lexer": "ipython3",
   "version": "3.13.2"
  }
 },
 "nbformat": 4,
 "nbformat_minor": 5
}
