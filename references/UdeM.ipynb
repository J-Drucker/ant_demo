{
 "cells": [
  {
   "cell_type": "markdown",
   "id": "17c1000f-efe9-426f-adc7-776bd3052f5a",
   "metadata": {},
   "source": [
    "# Setup: dependencies, global variables, functions, etc."
   ]
  },
  {
   "cell_type": "code",
   "execution_count": 1,
   "id": "37e5488b-b5b4-4a83-adfa-afd0caef357e",
   "metadata": {},
   "outputs": [],
   "source": [
    "import ant_demo"
   ]
  },
  {
   "cell_type": "code",
   "execution_count": 40,
   "id": "a68b43ec-0216-4f9c-84db-7512f1ebd15f",
   "metadata": {},
   "outputs": [],
   "source": [
    "import Analysis_Demo\n",
    "from importlib import reload\n",
    "reload(Analysis_Demo)\n",
    "from Analysis_Demo import * # functions and global variables, like data_dir\n",
    "import mne\n",
    "import pandas as pd\n",
    "import numpy as np\n",
    "import seaborn as sn\n",
    "from matplotlib import pyplot as plt\n",
    "import os\n",
    "import fooof\n",
    "\n",
    "mne.set_log_level(verbose=0)\n",
    "\n",
    "%matplotlib qt\n",
    "\n",
    "close_plot = False"
   ]
  },
  {
   "cell_type": "code",
   "execution_count": 3,
   "id": "ef2b3a37-a5ef-414d-ac46-0b63d6ab1eea",
   "metadata": {},
   "outputs": [
    {
     "name": "stdout",
     "output_type": "stream",
     "text": [
      "Re-referenced to pseudo-mastoids\n",
      "Channel positions loaded for WG_Net_NA-261\n",
      "Annotations (events) renamed\n",
      "Eyes open/closed recoded as single annotations with durations of ~20s\n"
     ]
    }
   ],
   "source": [
    "# Loop through .CNT files in the directory\n",
    "for filename in os.listdir(parent_dir):\n",
    "    # Only look at the .CNT files\n",
    "    if not filename.endswith('.cnt'): continue\n",
    "    if not filename.endswith('18.cnt'): continue\n",
    "    # Open the data as an mne.Raw object\n",
    "    raw_unfilt = load_CNT(os.path.join(parent_dir, filename))"
   ]
  },
  {
   "cell_type": "markdown",
   "id": "9b9517e8-f5f5-4091-809c-16856c96788e",
   "metadata": {},
   "source": [
    "# Independent components analysis"
   ]
  },
  {
   "cell_type": "code",
   "execution_count": null,
   "id": "4a3689c0-25b7-461f-abcd-70216eb9c445",
   "metadata": {},
   "outputs": [],
   "source": [
    "ica = mne.preprocessing.ICA()\n",
    "raw = raw_unfilt.copy().filter(2,30).resample(sfreq=128)\n",
    "raw.info['bads'] = [ch for ch,noisy in zip(raw.ch_names, raw.get_data().std(axis=1) > .00008) if noisy]\n",
    "raw_unfilt.info['bads'] = raw.info['bads']\n",
    "ica.fit(raw)"
   ]
  },
  {
   "cell_type": "code",
   "execution_count": null,
   "id": "4c68e739-f5a9-4012-9c23-0bc28bd5bde4",
   "metadata": {},
   "outputs": [],
   "source": [
    "ica.plot_components(range(15))\n",
    "ica.plot_sources(raw, range(15))"
   ]
  },
  {
   "cell_type": "code",
   "execution_count": null,
   "id": "b1003be6-79de-4c3e-8226-8c13c9b4559c",
   "metadata": {},
   "outputs": [],
   "source": [
    "bad_ics = [0,4,12]\n",
    "ica.plot_overlay(raw, exclude=bad_ics)"
   ]
  },
  {
   "cell_type": "code",
   "execution_count": null,
   "id": "aba08a3d-aea2-409b-8390-765e82244546",
   "metadata": {},
   "outputs": [],
   "source": [
    "raw_ica = ica.apply(raw_unfilt.copy(), exclude=bad_ics)"
   ]
  },
  {
   "cell_type": "code",
   "execution_count": null,
   "id": "15afda43-32a7-4104-8eaf-fe98e892cc9a",
   "metadata": {},
   "outputs": [],
   "source": [
    "raw_unfilt.plot()"
   ]
  },
  {
   "cell_type": "markdown",
   "id": "0da7a955-b6e4-4cd4-91b7-fa192962f604",
   "metadata": {},
   "source": [
    "# Frequency domain analysis: Eyes open/closed alpha power"
   ]
  },
  {
   "cell_type": "markdown",
   "id": "d765f99e-c973-42f7-bf2e-94b96f30ed0b",
   "metadata": {},
   "source": [
    "## Power spectrum of the raw data\n",
    "Look for peaks at 60Hz and its harmonics. How clean are the data?  \n",
    "Look for peaks arund 10Hz. Those are your alpha oscillations!"
   ]
  },
  {
   "cell_type": "code",
   "execution_count": 5,
   "id": "cebae70a-e0ed-4b77-a6d4-66e4881843b2",
   "metadata": {},
   "outputs": [
    {
     "name": "stderr",
     "output_type": "stream",
     "text": [
      "[Parallel(n_jobs=1)]: Done  17 tasks      | elapsed:    0.3s\n",
      "[Parallel(n_jobs=1)]: Done  63 out of  63 | elapsed:    1.3s finished\n",
      "[Parallel(n_jobs=1)]: Done  17 tasks      | elapsed:    0.3s\n",
      "[Parallel(n_jobs=1)]: Done  63 out of  63 | elapsed:    1.3s finished\n"
     ]
    }
   ],
   "source": [
    "# Filter for clarity\n",
    "raw = raw_unfilt.copy().filter(1,30).notch_filter(60)"
   ]
  },
  {
   "cell_type": "code",
   "execution_count": null,
   "id": "186f7ed5-dfb8-489a-8940-64c8186b35e8",
   "metadata": {},
   "outputs": [],
   "source": [
    "fig, (ax1, ax2) = plt.subplots(2,1)\n",
    "raw_unfilt.plot_psd(fmax=150, show=True, ax=ax1)\n",
    "raw.plot_psd(fmax=150, show=True, ax=ax2)\n",
    "ax1.set(title='Raw unfiltered data')\n",
    "ax2.set(title='Filtered data (1-30Hz bandpass, 60Hz notch)')\n",
    "clean_up_plot(fig, 'Power spectrum of full dataset.png', close_plot)"
   ]
  },
  {
   "cell_type": "markdown",
   "id": "84005eb7-8200-41a4-8249-7c3abd63968b",
   "metadata": {},
   "source": [
    "## View the event markers"
   ]
  },
  {
   "cell_type": "code",
   "execution_count": null,
   "id": "9f4d44a2-0799-4b21-9d7f-cb61fea45a10",
   "metadata": {},
   "outputs": [],
   "source": [
    "raw_temp = raw.copy()\n",
    "raw_temp.annotations.delete([idx for idx, desc in enumerate(raw.annotations.description) if desc in ['exp_start','exp_stop','impedance']])\n",
    "fig = mne.viz.plot_events(mne.events_from_annotations(raw_temp)[0], event_id=mne.events_from_annotations(raw_temp)[1], sfreq=raw_temp.info['sfreq'])\n",
    "clean_up_plot(fig, 'Event markers.png',close_plot)"
   ]
  },
  {
   "cell_type": "code",
   "execution_count": null,
   "id": "7a0a73f6-5b23-4b6a-b802-47e83676d5fe",
   "metadata": {},
   "outputs": [],
   "source": [
    "annot = raw.annotations\n",
    "raw.annotations.delete([idx for idx, desc in enumerate(raw.annotations.description) if desc in ['exp_start','exp_stop','impedance']])\n",
    "fig = mne.viz.plot_events(mne.events_from_annotations(raw)[0], event_id=mne.events_from_annotations(raw)[1], sfreq=raw.info['sfreq'])\n",
    "raw.set_annotations(annot)\n",
    "clean_up_plot(fig, 'Event markers.png', close_plot)"
   ]
  },
  {
   "cell_type": "markdown",
   "id": "55a0ddec-86d9-472c-a899-b0c0d469d3ee",
   "metadata": {},
   "source": [
    "## Plot PSD for eyes open/closed, separately"
   ]
  },
  {
   "cell_type": "code",
   "execution_count": 6,
   "id": "d10e7b59-7f2a-4f3c-9c7e-9d330469e82f",
   "metadata": {},
   "outputs": [],
   "source": [
    "psds = {cond: \n",
    "        mne.concatenate_raws(\n",
    "            raw.crop_by_annotations(\n",
    "                annotations=[a for a in raw.annotations if a['description'] == cond]\n",
    "            )).compute_psd(method='welch', fmin=1, fmax=60, n_per_seg=int(raw.info['sfreq']))\n",
    "        for cond in ['eyes_open','eyes_closed']}"
   ]
  },
  {
   "cell_type": "code",
   "execution_count": null,
   "id": "dcfc99b3-3f20-4491-802d-9eecba3e7cdf",
   "metadata": {},
   "outputs": [],
   "source": [
    "fig, (ax1, ax2) = plt.subplots(2,1)\n",
    "psds['eyes_open'].plot(axes=ax1)\n",
    "psds['eyes_closed'].plot(axes=ax2)\n",
    "ax1.set(title='Eyes Open')\n",
    "ax2.set(title='Eyes Closed')\n",
    "clean_up_plot(fig, 'Power spectrum eyes open vs.closed with MNE.png', close_plot)"
   ]
  },
  {
   "cell_type": "code",
   "execution_count": null,
   "id": "605f43fe-601e-4dcc-8d70-9150b8ffbc30",
   "metadata": {},
   "outputs": [],
   "source": [
    "bands = {'Delta (0-4 Hz)': (0, 4),'Theta (4-8 Hz)': (4, 8),'Alpha (8-12 Hz)': (8, 12), 'Beta (12-30 Hz)': (12, 30)}\n",
    "fig, axs = plt.subplots(2,4)\n",
    "psds['eyes_open'].plot_topomap(bands=bands, axes=axs[0,0:4], cmap='RdBu_r')\n",
    "psds['eyes_closed'].plot_topomap(bands=bands, axes=axs[1,0:4], cmap='RdBu_r')\n",
    "fig.suptitle('Frequency band maps: Eyes open (top) and Eyes closed (bottom)')\n",
    "clean_up_plot(fig, 'Frequency mapping eyes open vs.closed with MNE.png', close_plot)"
   ]
  },
  {
   "cell_type": "code",
   "execution_count": null,
   "id": "6bc9b06b-ca6d-4f0f-90a9-abbaa19163fc",
   "metadata": {},
   "outputs": [],
   "source": [
    "df = pd.concat({k:v.to_data_frame(long_format=True, index='freq') for k,v in psds.items()})\n",
    "df = df.reset_index().drop(columns='ch_type').rename(columns={'value':'power', 'level_0':'condition'})\n",
    "df['power (log)'] = np.log(df['power'])\n",
    "\n",
    "fig = sn.relplot(df, kind='line', x='freq', y='power (log)', hue='condition')\n",
    "clean_up_plot(fig.figure, 'Average power spectrum eyes open vs. closed.png', close_plot)\n",
    "fig = sn.relplot(df, kind='line', x='freq', y='power (log)', hue='condition', style='channel', alpha=.5)\n",
    "clean_up_plot(fig.figure, 'Power spectrum eyes open vs. closed.png', close_plot)\n",
    "fig = sn.relplot(df, kind='line', x='freq', y='power (log)', hue='condition', col='channel', col_wrap=8)\n",
    "clean_up_plot(fig.figure, 'Power spectrum eyes open vs. closed - per channel.png', close_plot)"
   ]
  },
  {
   "cell_type": "code",
   "execution_count": null,
   "id": "b221817c-1e0b-4b44-818a-783bdf121df4",
   "metadata": {},
   "outputs": [],
   "source": [
    "# Look at the peak alpha frequency per condition X channel\n",
    "df_peaks = df.query(\"7<freq<13\").groupby(['condition','channel']).apply(lambda x:x.loc[x['power (log)'].idxmax(),'freq']).rename('freq')\n",
    "print(type(df_peaks))\n",
    "fig = sn.catplot(df_peaks.reset_index(), kind='bar', x='freq', y='condition', col='channel',col_wrap=8, sharex=False)\n",
    "clean_up_plot(fig.figure, 'Peak alpha - per channel.png', close_plot)\n",
    "df_peaks.groupby(['channel']).apply(lambda x: x.diff()['eyes_open']).hist(bins=50)"
   ]
  },
  {
   "cell_type": "code",
   "execution_count": 7,
   "id": "e5caafd5-6b4d-4358-85fc-18dcb3b25461",
   "metadata": {},
   "outputs": [
    {
     "name": "stdout",
     "output_type": "stream",
     "text": [
      "Running FOOOFGroup across 63 power spectra.\n",
      "Running FOOOFGroup across 63 power spectra.\n"
     ]
    },
    {
     "data": {
      "text/plain": [
       "<Axes: >"
      ]
     },
     "execution_count": 7,
     "metadata": {},
     "output_type": "execute_result"
    }
   ],
   "source": [
    "import fooof\n",
    "fms = {k:fooof.FOOOFGroup() for k in psds.keys()}\n",
    "for k,v in psds.items():\n",
    "    fms[k].fit(freqs=v.freqs, power_spectra=v.get_data())\n",
    "df = pd.DataFrame({\n",
    "    'eo':fms['eyes_open'].to_df(fooof.Bands({'alpha': [8,12]}))['alpha_cf'],\n",
    "    'ec':fms['eyes_closed'].to_df(fooof.Bands({'alpha': [8,12]}))['alpha_cf'],\n",
    "})\n",
    "df['open_bias'] = df['eo']-df['ec']\n",
    "df['open_bias'].hist(bins=50)"
   ]
  },
  {
   "cell_type": "markdown",
   "id": "d8cfca25-2d56-4bbd-94ad-6604749af7e6",
   "metadata": {},
   "source": [
    "# ERP analysis: oddball P300"
   ]
  },
  {
   "cell_type": "code",
   "execution_count": 8,
   "id": "364faf63-bb1b-45e3-9c9d-e514f53b8ede",
   "metadata": {},
   "outputs": [
    {
     "name": "stderr",
     "output_type": "stream",
     "text": [
      "[Parallel(n_jobs=1)]: Done  17 tasks      | elapsed:    0.4s\n",
      "[Parallel(n_jobs=1)]: Done  63 out of  63 | elapsed:    1.7s finished\n",
      "[Parallel(n_jobs=1)]: Done  17 tasks      | elapsed:    0.3s\n",
      "[Parallel(n_jobs=1)]: Done  63 out of  63 | elapsed:    1.4s finished\n"
     ]
    }
   ],
   "source": [
    "raw_ob = raw_unfilt.copy().filter(.1,30).notch_filter(60)\n",
    "\n",
    "epochs = mne.Epochs(\n",
    "    raw_ob, \n",
    "    events = mne.events_from_annotations(raw_ob,\n",
    "                                         event_id={\n",
    "                                             'frequent': 1,\n",
    "                                             'rare': 2,\n",
    "                                         }\n",
    "                                        )[0],\n",
    "    event_id = {'frequent':1, 'rare':2},\n",
    "    tmin = -0.2, tmax = .8, baseline = (-0.2, 0),\n",
    ")\n",
    "\n",
    "epochs.drop(epochs.to_data_frame(index=['time','condition','epoch']).groupby('epoch').std().max(axis=1).sort_values(ascending=False).index[0:int(.05*len(epochs))])\n",
    "evoked = epochs.average(by_event_type=True)"
   ]
  },
  {
   "cell_type": "code",
   "execution_count": 11,
   "id": "356def1e-d10f-4f5f-b90c-7405ecdc48b0",
   "metadata": {},
   "outputs": [],
   "source": [
    "fig = mne.viz.plot_compare_evokeds(evoked, \n",
    "                                   picks=[ch for ch in raw_ob.ch_names if ((ch in [\n",
    "                                       '5L','6L','7L','8L','9L',\n",
    "                                       '5Z','6Z','7Z','8Z','9Z',\n",
    "                                       '5R','6R','7R','8R','9R',\n",
    "                                   ]))],\n",
    "                                   show_sensors=True,\n",
    "                                   combine='mean',\n",
    "                                   title='P300'\n",
    "                                  )\n",
    "clean_up_plot(fig[0], 'P300_averaged.png', close_plot)"
   ]
  },
  {
   "cell_type": "code",
   "execution_count": 10,
   "id": "7129e6e6-3ce2-4b40-8277-20ff6ceed5ba",
   "metadata": {},
   "outputs": [],
   "source": [
    "fig = evoked[1].plot_joint(title='Response to Rare Stimuli', times=[0,.100,.200,.300,.400,.500,.600])\n",
    "clean_up_plot(fig, 'Response to Rare Stimuli_v2.png', close_plot)"
   ]
  },
  {
   "cell_type": "code",
   "execution_count": null,
   "id": "22a047fe-8df4-4ee0-a4a5-7155b5eac140",
   "metadata": {},
   "outputs": [],
   "source": [
    "tf = raw.compute_tfr('morlet',np.arange(6,26), picks='11R', decim=10, output='power')"
   ]
  },
  {
   "cell_type": "code",
   "execution_count": null,
   "id": "eb92a17d-3e7a-4945-ac38-5e82040a193e",
   "metadata": {},
   "outputs": [],
   "source": [
    "tf.plot(dB=True,baseline=[0,20])"
   ]
  },
  {
   "cell_type": "code",
   "execution_count": 77,
   "id": "38a328bd-f683-4e9b-b581-7bdfeb2eafa3",
   "metadata": {},
   "outputs": [
    {
     "name": "stdout",
     "output_type": "stream",
     "text": [
      "-frequent + rare\n"
     ]
    }
   ],
   "source": [
    "# T-test for SNR\n",
    "from scipy.stats import ttest_ind\n",
    "evoked_diff = mne.combine_evoked(evoked, [-1,1])\n",
    "ch_best,latency = evoked_diff.get_peak(tmin=.300,tmax=.500)\n",
    "df_windowed = epochs.to_data_frame(index=['time','condition','epoch']).query(\"-.1<time-@latency<.1\")\n",
    "df_auc = df_windowed.groupby(['epoch','condition']).mean()\n",
    "df_t = pd.Series(index=pd.Index(name='channel', data=evoked_diff.ch_names),\n",
    "                 name='SNR',\n",
    "                 data=ttest_ind(df_auc.query(\"condition=='rare'\"), df_auc.query(\"condition=='frequent'\"), equal_var=False).statistic,\n",
    "                )"
   ]
  },
  {
   "cell_type": "code",
   "execution_count": 100,
   "id": "f0cc2120-555d-4e5e-9385-9fbb0fde5402",
   "metadata": {},
   "outputs": [
    {
     "data": {
      "text/html": [
       "<div>\n",
       "<style scoped>\n",
       "    .dataframe tbody tr th:only-of-type {\n",
       "        vertical-align: middle;\n",
       "    }\n",
       "\n",
       "    .dataframe tbody tr th {\n",
       "        vertical-align: top;\n",
       "    }\n",
       "\n",
       "    .dataframe thead th {\n",
       "        text-align: right;\n",
       "    }\n",
       "</style>\n",
       "<table border=\"1\" class=\"dataframe\">\n",
       "  <thead>\n",
       "    <tr style=\"text-align: right;\">\n",
       "      <th></th>\n",
       "      <th></th>\n",
       "      <th></th>\n",
       "      <th>auc</th>\n",
       "    </tr>\n",
       "    <tr>\n",
       "      <th>epoch</th>\n",
       "      <th>condition</th>\n",
       "      <th>channel</th>\n",
       "      <th></th>\n",
       "    </tr>\n",
       "  </thead>\n",
       "  <tbody>\n",
       "    <tr>\n",
       "      <th>0</th>\n",
       "      <th>rare</th>\n",
       "      <th>1Z</th>\n",
       "      <td>0.730630</td>\n",
       "    </tr>\n",
       "    <tr>\n",
       "      <th>1</th>\n",
       "      <th>frequent</th>\n",
       "      <th>1Z</th>\n",
       "      <td>-19.547240</td>\n",
       "    </tr>\n",
       "    <tr>\n",
       "      <th>2</th>\n",
       "      <th>frequent</th>\n",
       "      <th>1Z</th>\n",
       "      <td>6.105339</td>\n",
       "    </tr>\n",
       "    <tr>\n",
       "      <th>3</th>\n",
       "      <th>rare</th>\n",
       "      <th>1Z</th>\n",
       "      <td>3.965618</td>\n",
       "    </tr>\n",
       "    <tr>\n",
       "      <th>4</th>\n",
       "      <th>frequent</th>\n",
       "      <th>1Z</th>\n",
       "      <td>2.257274</td>\n",
       "    </tr>\n",
       "    <tr>\n",
       "      <th>...</th>\n",
       "      <th>...</th>\n",
       "      <th>...</th>\n",
       "      <td>...</td>\n",
       "    </tr>\n",
       "    <tr>\n",
       "      <th>155</th>\n",
       "      <th>frequent</th>\n",
       "      <th>5Z</th>\n",
       "      <td>8.160531</td>\n",
       "    </tr>\n",
       "    <tr>\n",
       "      <th>156</th>\n",
       "      <th>frequent</th>\n",
       "      <th>5Z</th>\n",
       "      <td>18.483575</td>\n",
       "    </tr>\n",
       "    <tr>\n",
       "      <th>157</th>\n",
       "      <th>frequent</th>\n",
       "      <th>5Z</th>\n",
       "      <td>13.002523</td>\n",
       "    </tr>\n",
       "    <tr>\n",
       "      <th>158</th>\n",
       "      <th>frequent</th>\n",
       "      <th>5Z</th>\n",
       "      <td>0.602844</td>\n",
       "    </tr>\n",
       "    <tr>\n",
       "      <th>159</th>\n",
       "      <th>rare</th>\n",
       "      <th>5Z</th>\n",
       "      <td>5.454106</td>\n",
       "    </tr>\n",
       "  </tbody>\n",
       "</table>\n",
       "<p>9576 rows × 1 columns</p>\n",
       "</div>"
      ],
      "text/plain": [
       "                               auc\n",
       "epoch condition channel           \n",
       "0     rare      1Z        0.730630\n",
       "1     frequent  1Z      -19.547240\n",
       "2     frequent  1Z        6.105339\n",
       "3     rare      1Z        3.965618\n",
       "4     frequent  1Z        2.257274\n",
       "...                            ...\n",
       "155   frequent  5Z        8.160531\n",
       "156   frequent  5Z       18.483575\n",
       "157   frequent  5Z       13.002523\n",
       "158   frequent  5Z        0.602844\n",
       "159   rare      5Z        5.454106\n",
       "\n",
       "[9576 rows x 1 columns]"
      ]
     },
     "execution_count": 100,
     "metadata": {},
     "output_type": "execute_result"
    }
   ],
   "source": [
    "df_auc.melt(ignore_index=False, value_name='auc').set_index('channel', append=True)"
   ]
  },
  {
   "cell_type": "code",
   "execution_count": 95,
   "id": "5af07f09-b81e-4e95-96e9-a09ff20295c7",
   "metadata": {},
   "outputs": [
    {
     "data": {
      "text/plain": [
       "channel\n",
       "1Z     1.274959\n",
       "2Z     1.284167\n",
       "3Z     1.557130\n",
       "4Z     1.617737\n",
       "6Z     4.532384\n",
       "         ...   \n",
       "5RC    1.703978\n",
       "1RD   -0.006102\n",
       "3RD   -0.710747\n",
       "4RD   -0.047266\n",
       "5Z     2.291669\n",
       "Name: SNR, Length: 63, dtype: float64"
      ]
     },
     "execution_count": 95,
     "metadata": {},
     "output_type": "execute_result"
    }
   ],
   "source": [
    "df_t"
   ]
  },
  {
   "cell_type": "code",
   "execution_count": null,
   "id": "0a800887-5c5d-4919-94e8-3f1dd3421073",
   "metadata": {},
   "outputs": [],
   "source": []
  }
 ],
 "metadata": {
  "kernelspec": {
   "display_name": "Python 3 (ipykernel)",
   "language": "python",
   "name": "python3"
  },
  "language_info": {
   "codemirror_mode": {
    "name": "ipython",
    "version": 3
   },
   "file_extension": ".py",
   "mimetype": "text/x-python",
   "name": "python",
   "nbconvert_exporter": "python",
   "pygments_lexer": "ipython3",
   "version": "3.13.2"
  }
 },
 "nbformat": 4,
 "nbformat_minor": 5
}
